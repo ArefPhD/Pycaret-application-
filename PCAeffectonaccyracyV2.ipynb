{
  "nbformat": 4,
  "nbformat_minor": 0,
  "metadata": {
    "colab": {
      "name": "Untitled200.ipynb",
      "private_outputs": true,
      "provenance": []
    },
    "kernelspec": {
      "name": "python3",
      "display_name": "Python 3"
    },
    "language_info": {
      "name": "python"
    }
  },
  "cells": [
    {
      "cell_type": "code",
      "execution_count": null,
      "metadata": {
        "id": "IyTylwGTjKjV"
      },
      "outputs": [],
      "source": [
        "from sklearn import datasets\n",
        "\n",
        "import matplotlib.pyplot as plt\n",
        "\n",
        "#Load the digits dataset\n",
        "digits = datasets.load_digits()\n",
        "\n",
        "X_raw = digits['data']\n",
        "y = digits['target']"
      ]
    },
    {
      "cell_type": "code",
      "source": [
        "from sklearn.model_selection import train_test_split\n",
        "from sklearn.preprocessing import StandardScaler\n",
        "\n",
        "sscaler = StandardScaler()\n",
        "X = sscaler.fit_transform(X_raw)\n",
        "X_train, X_test, y_train, y_test = train_test_split(X, y, test_size=0.33, random_state=0)"
      ],
      "metadata": {
        "id": "eXMyI84XjO-L"
      },
      "execution_count": null,
      "outputs": []
    },
    {
      "cell_type": "code",
      "source": [
        "from sklearn.decomposition import PCA\n",
        "\n",
        "pca = PCA(n_components=63)\n",
        "\n",
        "X_train_pca = pca.fit_transform(X_train)\n",
        "# correct one"
      ],
      "metadata": {
        "id": "zaMSBlivjQRS"
      },
      "execution_count": null,
      "outputs": []
    },
    {
      "cell_type": "code",
      "source": [
        "from sklearn.svm import SVC\n",
        "\n",
        "svc = SVC()#kernel='linear')\n",
        "svc_pca = SVC()#kernel='linear')\n",
        "\n",
        "svc.fit(X_train, y_train)\n",
        "print(svc.score(X_test, y_test))"
      ],
      "metadata": {
        "id": "rvsmcnzfjUXK"
      },
      "execution_count": null,
      "outputs": []
    },
    {
      "cell_type": "code",
      "source": [
        "X_test_pca = pca.transform(X_test)\n",
        "\n",
        "svc_pca.fit(X_train_pca, y_train)\n",
        "print(svc_pca.score(X_test_pca, y_test))"
      ],
      "metadata": {
        "id": "yHM9c3ROjVhZ"
      },
      "execution_count": null,
      "outputs": []
    },
    {
      "cell_type": "code",
      "source": [
        "X_test_pca = pca.fit_transform(X_test)\n",
        "\n",
        "svc_pca.fit(X_train_pca, y_train)\n",
        "print(svc_pca.score(X_test_pca, y_test))"
      ],
      "metadata": {
        "id": "UPfMblnfjWkK"
      },
      "execution_count": null,
      "outputs": []
    },
    {
      "cell_type": "code",
      "source": [
        "from sklearn.decomposition import PCA\n",
        "\n",
        "pca = PCA(n_components=3)\n",
        "\n",
        "XP= pca.fit_transform(X)\n",
        "# correct one"
      ],
      "metadata": {
        "id": "_LalDsvUjtWr"
      },
      "execution_count": null,
      "outputs": []
    },
    {
      "cell_type": "code",
      "source": [
        "X_train, X_test, y_train, y_test = train_test_split(XP, y, test_size=0.33, random_state=0)"
      ],
      "metadata": {
        "id": "r8pL_yLsjzox"
      },
      "execution_count": null,
      "outputs": []
    },
    {
      "cell_type": "code",
      "source": [
        "from sklearn.svm import SVC\n",
        "\n",
        "svc = SVC()#kernel='linear')\n",
        "svc_pca = SVC()#kernel='linear')\n",
        "\n",
        "svc.fit(X_train, y_train)\n",
        "print(svc.score(X_test, y_test))"
      ],
      "metadata": {
        "id": "2vcLiHqFj3CB"
      },
      "execution_count": null,
      "outputs": []
    }
  ]
}