{
  "nbformat": 4,
  "nbformat_minor": 0,
  "metadata": {
    "colab": {
      "name": "Untitled209.ipynb",
      "private_outputs": true,
      "provenance": []
    },
    "kernelspec": {
      "name": "python3",
      "display_name": "Python 3"
    },
    "language_info": {
      "name": "python"
    }
  },
  "cells": [
    {
      "cell_type": "code",
      "execution_count": null,
      "metadata": {
        "id": "2SfBaR7LMzax"
      },
      "outputs": [],
      "source": [
        "from google.colab import files\n",
        "\n",
        "uploaded = files.upload()"
      ]
    },
    {
      "cell_type": "code",
      "source": [
        "import pandas as pd\n",
        "df=pd.read_csv('train.csv')"
      ],
      "metadata": {
        "id": "MPQRx8lwM3Vs"
      },
      "execution_count": null,
      "outputs": []
    },
    {
      "cell_type": "code",
      "source": [
        "df=df.drop(['PassengerId','Ticket','Cabin','Name'],axis=1)"
      ],
      "metadata": {
        "id": "75vVbBJMNPGb"
      },
      "execution_count": null,
      "outputs": []
    },
    {
      "cell_type": "code",
      "source": [
        "common_value = 'S'\n",
        "df[\"Embarked\"] =df[\"Embarked\"].fillna(common_value)\n",
        "df = df.fillna(df['Fare'].mean())"
      ],
      "metadata": {
        "id": "gjCK6kQmSoAF"
      },
      "execution_count": null,
      "outputs": []
    },
    {
      "cell_type": "code",
      "source": [
        "from sklearn.preprocessing import OrdinalEncoder\n",
        "enc = OrdinalEncoder()\n",
        "enc.fit(df[['Embarked','Sex']])\n",
        "\n",
        "enc.categories_\n",
        "\n",
        "df[['Embarked','Sex']]=enc.transform(df[['Embarked','Sex']])\n"
      ],
      "metadata": {
        "id": "1ujcOQoxM7-z"
      },
      "execution_count": null,
      "outputs": []
    },
    {
      "cell_type": "code",
      "source": [
        "df"
      ],
      "metadata": {
        "id": "g4kZ93n9NIpU"
      },
      "execution_count": null,
      "outputs": []
    },
    {
      "cell_type": "code",
      "source": [
        "from sklearn.preprocessing import StandardScaler\n",
        "# scale the train and test ages\n",
        "\n",
        "scaler = StandardScaler()\n",
        "df[\"Age\"] = scaler.fit_transform(df[\"Age\"] .values.reshape(-1,1))\n",
        "df[\"Fare\"] = scaler.fit_transform(df[\"Fare\"] .values.reshape(-1,1))"
      ],
      "metadata": {
        "id": "7_5dlUbcQXJd"
      },
      "execution_count": null,
      "outputs": []
    },
    {
      "cell_type": "code",
      "source": [
        "X  = df.drop(['Survived'], axis=1)\n"
      ],
      "metadata": {
        "id": "swpBzHRGNzUN"
      },
      "execution_count": null,
      "outputs": []
    },
    {
      "cell_type": "code",
      "source": [
        "y  = df[['Survived']]\n"
      ],
      "metadata": {
        "id": "iOWyhCOwNz70"
      },
      "execution_count": null,
      "outputs": []
    },
    {
      "cell_type": "code",
      "source": [
        "import numpy as np\n",
        "from sklearn.impute import KNNImputer\n",
        "\n",
        "imp_mean = KNNImputer(n_neighbors=2)\n",
        "imp_mean.fit(X)\n",
        "\n",
        "X=imp_mean.transform(X)"
      ],
      "metadata": {
        "id": "HpZcxkbpNteU"
      },
      "execution_count": null,
      "outputs": []
    },
    {
      "cell_type": "code",
      "source": [
        "from sklearn.model_selection import train_test_split\n",
        "\n",
        "X_train, X_test, y_train, y_test = train_test_split(\n",
        "    X, y, test_size=0.33, random_state=42)"
      ],
      "metadata": {
        "id": "I4mXRXJhN9kE"
      },
      "execution_count": null,
      "outputs": []
    },
    {
      "cell_type": "code",
      "source": [
        "from sklearn import svm\n",
        "\n",
        "clf = svm.SVC()\n",
        "clf.fit(X_train, y_train)\n",
        "y_pred =clf.predict(X_test)\n",
        "print(y_pred[0:5])"
      ],
      "metadata": {
        "id": "1t2E2C1SOvrb"
      },
      "execution_count": null,
      "outputs": []
    },
    {
      "cell_type": "code",
      "source": [
        "from sklearn.metrics import accuracy_score\n",
        "\n",
        "# Predict test set labels\n",
        "y_pred = clf.predict(X_test)\n",
        "\n",
        "# Compute test set accuracy\n",
        "acc = accuracy_score(y_test, y_pred)\n",
        "print(\"Test set accuracy: {:.2f}\".format(acc))"
      ],
      "metadata": {
        "id": "oXNVXXH6Oxr9"
      },
      "execution_count": null,
      "outputs": []
    },
    {
      "cell_type": "code",
      "source": [
        "from google.colab import files\n",
        "\n",
        "uploaded = files.upload()"
      ],
      "metadata": {
        "id": "7XQgamOAPPr8"
      },
      "execution_count": null,
      "outputs": []
    },
    {
      "cell_type": "code",
      "source": [
        "import pandas as pd\n",
        "df=pd.read_csv('test.csv')\n",
        "df2=pd.read_csv('test.csv')"
      ],
      "metadata": {
        "id": "H_b_Y4u7PSD-"
      },
      "execution_count": null,
      "outputs": []
    },
    {
      "cell_type": "code",
      "source": [
        "df=df.drop(['PassengerId','Ticket','Cabin','Name'],axis=1)"
      ],
      "metadata": {
        "id": "2-UGY98CPTsc"
      },
      "execution_count": null,
      "outputs": []
    },
    {
      "cell_type": "code",
      "source": [
        "common_value = 'S'\n",
        "df[\"Embarked\"] =df[\"Embarked\"].fillna(common_value)\n",
        "df = df.fillna(df['Fare'].mean())"
      ],
      "metadata": {
        "id": "i8ySXoA1S8y_"
      },
      "execution_count": null,
      "outputs": []
    },
    {
      "cell_type": "code",
      "source": [
        "from sklearn.preprocessing import StandardScaler\n",
        "# scale the train and test ages\n",
        "\n",
        "scaler = StandardScaler()\n",
        "df[\"Age\"] = scaler.fit_transform(df[\"Age\"] .values.reshape(-1,1))\n",
        "df[\"Fare\"] = scaler.fit_transform(df[\"Fare\"] .values.reshape(-1,1))"
      ],
      "metadata": {
        "id": "fv_nhvnkS_-U"
      },
      "execution_count": null,
      "outputs": []
    },
    {
      "cell_type": "code",
      "source": [
        "from sklearn.preprocessing import OrdinalEncoder\n",
        "enc = OrdinalEncoder()\n",
        "enc.fit(df[['Embarked','Sex']])\n",
        "\n",
        "enc.categories_\n",
        "\n",
        "df[['Embarked','Sex']]=enc.transform(df[['Embarked','Sex']])"
      ],
      "metadata": {
        "id": "c8G61gTfPWPM"
      },
      "execution_count": null,
      "outputs": []
    },
    {
      "cell_type": "code",
      "source": [
        "import numpy as np\n",
        "from sklearn.impute import KNNImputer\n",
        "\n",
        "imp_mean = KNNImputer(n_neighbors=2)\n",
        "imp_mean.fit(df)\n",
        "\n",
        "df1=imp_mean.transform(df)"
      ],
      "metadata": {
        "id": "FAtapyKrPmFE"
      },
      "execution_count": null,
      "outputs": []
    },
    {
      "cell_type": "code",
      "source": [
        "df"
      ],
      "metadata": {
        "id": "OjLfRO0rR8cN"
      },
      "execution_count": null,
      "outputs": []
    },
    {
      "cell_type": "code",
      "source": [
        "y_pred = clf.predict(df1)\n"
      ],
      "metadata": {
        "id": "LXi397yKPaz8"
      },
      "execution_count": null,
      "outputs": []
    },
    {
      "cell_type": "code",
      "source": [
        "#-------------------\n",
        "# Submission!\n",
        "#-------------------\n",
        "\n",
        "output = pd.DataFrame({'PassengerId': df2.PassengerId, 'Survived': y_pred})\n",
        "output.head()\n",
        "\n",
        "output.to_csv('submission.csv', index=False)\n",
        "print(\"Your submission was successfully saved!\")"
      ],
      "metadata": {
        "id": "RXvylsUVPLP8"
      },
      "execution_count": null,
      "outputs": []
    },
    {
      "cell_type": "code",
      "source": [
        "from google.colab import files\n",
        "\n",
        "uploaded = files.download('submission.csv')"
      ],
      "metadata": {
        "id": "-BqPLc0BP0AU"
      },
      "execution_count": null,
      "outputs": []
    }
  ]
}