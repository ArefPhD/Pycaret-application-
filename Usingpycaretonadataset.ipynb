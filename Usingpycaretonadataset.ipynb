{
  "nbformat": 4,
  "nbformat_minor": 0,
  "metadata": {
    "colab": {
      "name": "Untitled197.ipynb",
      "private_outputs": true,
      "provenance": []
    },
    "kernelspec": {
      "name": "python3",
      "display_name": "Python 3"
    },
    "language_info": {
      "name": "python"
    }
  },
  "cells": [
    {
      "cell_type": "code",
      "source": [
        "pip install pycaret"
      ],
      "metadata": {
        "id": "Y9jScXHSByoA"
      },
      "execution_count": null,
      "outputs": []
    },
    {
      "cell_type": "code",
      "execution_count": null,
      "metadata": {
        "id": "2QCnxZTBBv2h"
      },
      "outputs": [],
      "source": [
        "from pycaret.datasets import get_data\n",
        "dataset = get_data('credit')"
      ]
    },
    {
      "cell_type": "code",
      "source": [
        "data = dataset.sample(frac=0.95, random_state=786)\n",
        "data_unseen = dataset.drop(data.index)\n",
        "data.reset_index(inplace=True, drop=True)\n",
        "data_unseen.reset_index(inplace=True, drop=True)\n",
        "print('Data for Modeling: ' + str(data.shape))\n",
        "print('Unseen Data For Predictions: ' + str(data_unseen.shape))"
      ],
      "metadata": {
        "id": "-BQbqL_EB_8J"
      },
      "execution_count": null,
      "outputs": []
    },
    {
      "cell_type": "code",
      "source": [
        "pip install pycaret --user\n"
      ],
      "metadata": {
        "id": "O0DPPkwYCVOS"
      },
      "execution_count": null,
      "outputs": []
    },
    {
      "cell_type": "code",
      "source": [
        "pip install markupsafe==2.0.1\n"
      ],
      "metadata": {
        "id": "6X6HHJ19CYc3"
      },
      "execution_count": null,
      "outputs": []
    },
    {
      "cell_type": "code",
      "source": [
        "import jinja2\n",
        "\n",
        "from pycaret.classification import *\n",
        "exp_clf101 = setup(data = data, target = 'default', session_id=123) \n"
      ],
      "metadata": {
        "id": "CeYx2uoXCDsQ"
      },
      "execution_count": null,
      "outputs": []
    },
    {
      "cell_type": "code",
      "source": [
        "best_model = compare_models()\n"
      ],
      "metadata": {
        "id": "CooCDz70CxCf"
      },
      "execution_count": null,
      "outputs": []
    },
    {
      "cell_type": "code",
      "source": [
        "print(best_model)\n"
      ],
      "metadata": {
        "id": "Nn1sO1dRC0EO"
      },
      "execution_count": null,
      "outputs": []
    },
    {
      "cell_type": "code",
      "source": [
        "models()\n"
      ],
      "metadata": {
        "id": "pCyphBVSDCCo"
      },
      "execution_count": null,
      "outputs": []
    },
    {
      "cell_type": "code",
      "source": [
        "dt = create_model('dt')\n"
      ],
      "metadata": {
        "id": "PLgWAk0DDDa_"
      },
      "execution_count": null,
      "outputs": []
    },
    {
      "cell_type": "code",
      "source": [
        "#trained model object is stored in the variable 'dt'. \n",
        "print(dt)"
      ],
      "metadata": {
        "id": "VnqWrbQfDIwg"
      },
      "execution_count": null,
      "outputs": []
    },
    {
      "cell_type": "code",
      "source": [
        "knn = create_model('knn')\n"
      ],
      "metadata": {
        "id": "YvDddFClDKu_"
      },
      "execution_count": null,
      "outputs": []
    },
    {
      "cell_type": "code",
      "source": [
        "rf = create_model('rf')\n"
      ],
      "metadata": {
        "id": "oYwYTNtwDMFX"
      },
      "execution_count": null,
      "outputs": []
    },
    {
      "cell_type": "code",
      "source": [
        "tuned_dt = tune_model(dt)\n",
        "print(tuned_dt)\n"
      ],
      "metadata": {
        "id": "KsqToyTADOca"
      },
      "execution_count": null,
      "outputs": []
    },
    {
      "cell_type": "code",
      "source": [
        "import numpy as np\n",
        "tuned_knn = tune_model(knn, custom_grid = {'n_neighbors' : np.arange(0,50,1)})"
      ],
      "metadata": {
        "id": "TUKDbl0eDfIY"
      },
      "execution_count": null,
      "outputs": []
    },
    {
      "cell_type": "code",
      "source": [
        "tuned_rf = tune_model(rf)\n"
      ],
      "metadata": {
        "id": "8I0bUgrtDgtA"
      },
      "execution_count": null,
      "outputs": []
    },
    {
      "cell_type": "code",
      "source": [
        "plot_model(tuned_rf, plot = 'auc')\n"
      ],
      "metadata": {
        "id": "kfB6XNgoDh9o"
      },
      "execution_count": null,
      "outputs": []
    },
    {
      "cell_type": "code",
      "source": [
        "plot_model(tuned_rf, plot = 'pr')\n"
      ],
      "metadata": {
        "id": "nRbMg_3sDjLv"
      },
      "execution_count": null,
      "outputs": []
    },
    {
      "cell_type": "code",
      "source": [
        "plot_model(tuned_rf, plot='feature')\n"
      ],
      "metadata": {
        "id": "oF3HVQy6DkMP"
      },
      "execution_count": null,
      "outputs": []
    },
    {
      "cell_type": "code",
      "source": [
        "plot_model(tuned_rf, plot = 'confusion_matrix')\n"
      ],
      "metadata": {
        "id": "NMRMaGNyDlSw"
      },
      "execution_count": null,
      "outputs": []
    },
    {
      "cell_type": "code",
      "source": [
        "evaluate_model(tuned_rf)\n"
      ],
      "metadata": {
        "id": "w-NPSv-YDmaY"
      },
      "execution_count": null,
      "outputs": []
    },
    {
      "cell_type": "code",
      "source": [
        "predict_model(tuned_rf);\n"
      ],
      "metadata": {
        "id": "l9jqwSttDnj2"
      },
      "execution_count": null,
      "outputs": []
    },
    {
      "cell_type": "code",
      "source": [
        "final_rf = finalize_model(tuned_rf)"
      ],
      "metadata": {
        "id": "_ubXxQhLDvLx"
      },
      "execution_count": null,
      "outputs": []
    },
    {
      "cell_type": "code",
      "source": [
        "print(final_rf)\n"
      ],
      "metadata": {
        "id": "aB2EoeYSDwRI"
      },
      "execution_count": null,
      "outputs": []
    },
    {
      "cell_type": "code",
      "source": [
        "unseen_predictions = predict_model(final_rf, data=data_unseen)\n",
        "unseen_predictions.head()"
      ],
      "metadata": {
        "id": "8hIHdr-2DyQz"
      },
      "execution_count": null,
      "outputs": []
    },
    {
      "cell_type": "code",
      "source": [
        "from pycaret.utils import check_metric\n",
        "check_metric(unseen_predictions['default'], unseen_predictions['Label'], metric = 'Accuracy')"
      ],
      "metadata": {
        "id": "Dd-ooMpGD0Gb"
      },
      "execution_count": null,
      "outputs": []
    },
    {
      "cell_type": "code",
      "source": [
        "save_model(final_rf,'Final RF Model 11Nov2020')\n",
        "saved_final_rf = load_model('Final RF Model 11Nov2020')\n",
        "new_prediction = predict_model(saved_final_rf, data=data_unseen)\n",
        "from pycaret.utils import check_metric\n",
        "check_metric(new_prediction['default'], new_prediction['Label'], metric = 'Accuracy')"
      ],
      "metadata": {
        "id": "o4b6cEmXD1Eu"
      },
      "execution_count": null,
      "outputs": []
    }
  ]
}